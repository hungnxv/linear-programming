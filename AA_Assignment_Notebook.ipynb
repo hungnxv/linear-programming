{
  "nbformat": 4,
  "nbformat_minor": 0,
  "metadata": {
    "colab": {
      "name": "Untitled0.ipynb",
      "private_outputs": true,
      "provenance": [],
      "collapsed_sections": []
    },
    "kernelspec": {
      "name": "python3",
      "display_name": "Python 3",
      "language": "python"
    },
    "language_info": {
      "name": "python",
      "version": "3.6.9"
    },
    "accelerator": "GPU"
  },
  "cells": [
    {
      "cell_type": "code",
      "metadata": {
        "id": "DelZYvR696bG"
      },
      "source": [
        "from pulp import LpMaximize, LpProblem, LpStatus, lpSum, LpVariable\n",
        "from pulp import GLPK\n",
        "import pandas as pd\n",
        "import math "
      ],
      "execution_count": 1,
      "outputs": []
    },
    {
      "cell_type": "code",
      "metadata": {
        "id": "JooRiOQKE_Ck"
      },
      "source": [
        "#Load data\n",
        "dataFrames = pd.read_csv(\"./PPL_sample/Week1/CO3005_003904_DH_HK201-Quiz Introduction (T2 2892020)-dixm.csv\", sep=',')"
      ],
      "execution_count": 8,
      "outputs": []
    },
    {
      "cell_type": "code",
      "metadata": {
        "id": "zT_v9ZDVFSl3"
      },
      "source": [
        "dataFrames.describe()"
      ],
      "execution_count": 9,
      "outputs": [
        {
          "output_type": "execute_result",
          "data": {
            "text/plain": [
              "          Tên            Họ     Tình trạng          Đã bắt đầu vào lúc  \\\n",
              "count      99            98             98                          98   \n",
              "unique     68            91              1                          10   \n",
              "top     Trung  Nguyễn Hoàng  Đã hoàn thành  28 September 2020  1:05 PM   \n",
              "freq        4             4             98                          68   \n",
              "\n",
              "                     Đã hoàn thành Thời gian thực hiện Điểm/10,00 Q. 1 /1,00  \\\n",
              "count                           98                  98         99         99   \n",
              "unique                           8                  79         40          4   \n",
              "top     28 September 2020  1:19 PM     14 phút 35 giây       9,17       1,00   \n",
              "freq                            51                   4         10         73   \n",
              "\n",
              "       Q. 2 /1,00 Q. 3 /1,00 Q. 4 /1,00 Q. 5 /1,00 Q. 6 /1,00 Q. 7 /1,00  \\\n",
              "count          99         99         99         99         99         99   \n",
              "unique          4          3          5          4          5          4   \n",
              "top          1,00       1,00       0,50       1,00       1,00       1,00   \n",
              "freq           73         89         59         82         76         41   \n",
              "\n",
              "       Q. 8 /1,00 Q. 9 /1,00 Q. 10 /1,00  \n",
              "count          99         99          99  \n",
              "unique          5          4           4  \n",
              "top          0,67       1,00        1,00  \n",
              "freq           52         87          71  "
            ],
            "text/html": "<div>\n<style scoped>\n    .dataframe tbody tr th:only-of-type {\n        vertical-align: middle;\n    }\n\n    .dataframe tbody tr th {\n        vertical-align: top;\n    }\n\n    .dataframe thead th {\n        text-align: right;\n    }\n</style>\n<table border=\"1\" class=\"dataframe\">\n  <thead>\n    <tr style=\"text-align: right;\">\n      <th></th>\n      <th>Tên</th>\n      <th>Họ</th>\n      <th>Tình trạng</th>\n      <th>Đã bắt đầu vào lúc</th>\n      <th>Đã hoàn thành</th>\n      <th>Thời gian thực hiện</th>\n      <th>Điểm/10,00</th>\n      <th>Q. 1 /1,00</th>\n      <th>Q. 2 /1,00</th>\n      <th>Q. 3 /1,00</th>\n      <th>Q. 4 /1,00</th>\n      <th>Q. 5 /1,00</th>\n      <th>Q. 6 /1,00</th>\n      <th>Q. 7 /1,00</th>\n      <th>Q. 8 /1,00</th>\n      <th>Q. 9 /1,00</th>\n      <th>Q. 10 /1,00</th>\n    </tr>\n  </thead>\n  <tbody>\n    <tr>\n      <th>count</th>\n      <td>99</td>\n      <td>98</td>\n      <td>98</td>\n      <td>98</td>\n      <td>98</td>\n      <td>98</td>\n      <td>99</td>\n      <td>99</td>\n      <td>99</td>\n      <td>99</td>\n      <td>99</td>\n      <td>99</td>\n      <td>99</td>\n      <td>99</td>\n      <td>99</td>\n      <td>99</td>\n      <td>99</td>\n    </tr>\n    <tr>\n      <th>unique</th>\n      <td>68</td>\n      <td>91</td>\n      <td>1</td>\n      <td>10</td>\n      <td>8</td>\n      <td>79</td>\n      <td>40</td>\n      <td>4</td>\n      <td>4</td>\n      <td>3</td>\n      <td>5</td>\n      <td>4</td>\n      <td>5</td>\n      <td>4</td>\n      <td>5</td>\n      <td>4</td>\n      <td>4</td>\n    </tr>\n    <tr>\n      <th>top</th>\n      <td>Trung</td>\n      <td>Nguyễn Hoàng</td>\n      <td>Đã hoàn thành</td>\n      <td>28 September 2020  1:05 PM</td>\n      <td>28 September 2020  1:19 PM</td>\n      <td>14 phút 35 giây</td>\n      <td>9,17</td>\n      <td>1,00</td>\n      <td>1,00</td>\n      <td>1,00</td>\n      <td>0,50</td>\n      <td>1,00</td>\n      <td>1,00</td>\n      <td>1,00</td>\n      <td>0,67</td>\n      <td>1,00</td>\n      <td>1,00</td>\n    </tr>\n    <tr>\n      <th>freq</th>\n      <td>4</td>\n      <td>4</td>\n      <td>98</td>\n      <td>68</td>\n      <td>51</td>\n      <td>4</td>\n      <td>10</td>\n      <td>73</td>\n      <td>73</td>\n      <td>89</td>\n      <td>59</td>\n      <td>82</td>\n      <td>76</td>\n      <td>41</td>\n      <td>52</td>\n      <td>87</td>\n      <td>71</td>\n    </tr>\n  </tbody>\n</table>\n</div>"
          },
          "metadata": {},
          "execution_count": 9
        }
      ]
    },
    {
      "cell_type": "code",
      "metadata": {
        "id": "eBcyu2ArpeNC"
      },
      "source": [
        "#Students information\n",
        "students = dataFrames[:-1].loc[:,'Tên':'Họ']"
      ],
      "execution_count": 10,
      "outputs": []
    },
    {
      "cell_type": "code",
      "metadata": {
        "id": "IUPkKihtJ96W"
      },
      "source": [
        "#Drop the last line and select only question scores\n",
        "scores = dataFrames[:-1].loc[:,'Q. 1 /1,00':'Q. 10 /1,00']"
      ],
      "execution_count": 14,
      "outputs": []
    },
    {
      "cell_type": "code",
      "metadata": {
        "id": "yCOxku4UQ81G"
      },
      "source": [
        "#Replace '-' with 0 and cast data to float type\n",
        "scores = scores.replace('-','0').apply(lambda x: x.str.replace(',','.'))[:].astype(float)"
      ],
      "execution_count": 15,
      "outputs": []
    },
    {
      "cell_type": "code",
      "metadata": {
        "id": "8vP2wIiSN3MJ"
      },
      "source": [
        "#Rename the column\n",
        "scores.columns = [str(i) for i in range(1,11)]"
      ],
      "execution_count": 16,
      "outputs": []
    },
    {
      "cell_type": "code",
      "metadata": {
        "id": "MfQAXaZvQh52"
      },
      "source": [
        "# Score data\n",
        "scores"
      ],
      "execution_count": 17,
      "outputs": [
        {
          "output_type": "execute_result",
          "data": {
            "text/plain": [
              "       1     2     3    4     5    6    7     8    9    10\n",
              "0   1.00  1.00  1.00  1.0  1.00  1.0  0.5  0.33  1.0  1.00\n",
              "1   1.00 -0.33  1.00  0.5  1.00  1.0  0.5  0.33  1.0  1.00\n",
              "2   1.00  1.00 -0.33  0.5  1.00  0.5  0.0  0.67  1.0  1.00\n",
              "3   1.00  1.00  1.00  1.0  1.00  1.0  1.0  0.67  1.0  1.00\n",
              "4  -0.33  1.00  1.00  0.5  1.00  1.0  0.0  0.67  1.0  1.00\n",
              "..   ...   ...   ...  ...   ...  ...  ...   ...  ...   ...\n",
              "93 -0.33  1.00  1.00  0.5  1.00  1.0  0.0  0.67  1.0 -0.33\n",
              "94 -0.33 -0.33 -0.33  0.0 -0.33  1.0  0.0  0.67  1.0  1.00\n",
              "95  1.00  1.00  1.00  0.5  1.00  1.0  0.5  1.00  1.0  1.00\n",
              "96 -0.33 -0.33 -0.33  0.5 -0.33  0.5  0.0  0.00  1.0  1.00\n",
              "97  0.00  0.00 -0.33  0.0  0.00  0.0  0.5  0.00  0.0  0.00\n",
              "\n",
              "[98 rows x 10 columns]"
            ],
            "text/html": "<div>\n<style scoped>\n    .dataframe tbody tr th:only-of-type {\n        vertical-align: middle;\n    }\n\n    .dataframe tbody tr th {\n        vertical-align: top;\n    }\n\n    .dataframe thead th {\n        text-align: right;\n    }\n</style>\n<table border=\"1\" class=\"dataframe\">\n  <thead>\n    <tr style=\"text-align: right;\">\n      <th></th>\n      <th>1</th>\n      <th>2</th>\n      <th>3</th>\n      <th>4</th>\n      <th>5</th>\n      <th>6</th>\n      <th>7</th>\n      <th>8</th>\n      <th>9</th>\n      <th>10</th>\n    </tr>\n  </thead>\n  <tbody>\n    <tr>\n      <th>0</th>\n      <td>1.00</td>\n      <td>1.00</td>\n      <td>1.00</td>\n      <td>1.0</td>\n      <td>1.00</td>\n      <td>1.0</td>\n      <td>0.5</td>\n      <td>0.33</td>\n      <td>1.0</td>\n      <td>1.00</td>\n    </tr>\n    <tr>\n      <th>1</th>\n      <td>1.00</td>\n      <td>-0.33</td>\n      <td>1.00</td>\n      <td>0.5</td>\n      <td>1.00</td>\n      <td>1.0</td>\n      <td>0.5</td>\n      <td>0.33</td>\n      <td>1.0</td>\n      <td>1.00</td>\n    </tr>\n    <tr>\n      <th>2</th>\n      <td>1.00</td>\n      <td>1.00</td>\n      <td>-0.33</td>\n      <td>0.5</td>\n      <td>1.00</td>\n      <td>0.5</td>\n      <td>0.0</td>\n      <td>0.67</td>\n      <td>1.0</td>\n      <td>1.00</td>\n    </tr>\n    <tr>\n      <th>3</th>\n      <td>1.00</td>\n      <td>1.00</td>\n      <td>1.00</td>\n      <td>1.0</td>\n      <td>1.00</td>\n      <td>1.0</td>\n      <td>1.0</td>\n      <td>0.67</td>\n      <td>1.0</td>\n      <td>1.00</td>\n    </tr>\n    <tr>\n      <th>4</th>\n      <td>-0.33</td>\n      <td>1.00</td>\n      <td>1.00</td>\n      <td>0.5</td>\n      <td>1.00</td>\n      <td>1.0</td>\n      <td>0.0</td>\n      <td>0.67</td>\n      <td>1.0</td>\n      <td>1.00</td>\n    </tr>\n    <tr>\n      <th>...</th>\n      <td>...</td>\n      <td>...</td>\n      <td>...</td>\n      <td>...</td>\n      <td>...</td>\n      <td>...</td>\n      <td>...</td>\n      <td>...</td>\n      <td>...</td>\n      <td>...</td>\n    </tr>\n    <tr>\n      <th>93</th>\n      <td>-0.33</td>\n      <td>1.00</td>\n      <td>1.00</td>\n      <td>0.5</td>\n      <td>1.00</td>\n      <td>1.0</td>\n      <td>0.0</td>\n      <td>0.67</td>\n      <td>1.0</td>\n      <td>-0.33</td>\n    </tr>\n    <tr>\n      <th>94</th>\n      <td>-0.33</td>\n      <td>-0.33</td>\n      <td>-0.33</td>\n      <td>0.0</td>\n      <td>-0.33</td>\n      <td>1.0</td>\n      <td>0.0</td>\n      <td>0.67</td>\n      <td>1.0</td>\n      <td>1.00</td>\n    </tr>\n    <tr>\n      <th>95</th>\n      <td>1.00</td>\n      <td>1.00</td>\n      <td>1.00</td>\n      <td>0.5</td>\n      <td>1.00</td>\n      <td>1.0</td>\n      <td>0.5</td>\n      <td>1.00</td>\n      <td>1.0</td>\n      <td>1.00</td>\n    </tr>\n    <tr>\n      <th>96</th>\n      <td>-0.33</td>\n      <td>-0.33</td>\n      <td>-0.33</td>\n      <td>0.5</td>\n      <td>-0.33</td>\n      <td>0.5</td>\n      <td>0.0</td>\n      <td>0.00</td>\n      <td>1.0</td>\n      <td>1.00</td>\n    </tr>\n    <tr>\n      <th>97</th>\n      <td>0.00</td>\n      <td>0.00</td>\n      <td>-0.33</td>\n      <td>0.0</td>\n      <td>0.00</td>\n      <td>0.0</td>\n      <td>0.5</td>\n      <td>0.00</td>\n      <td>0.0</td>\n      <td>0.00</td>\n    </tr>\n  </tbody>\n</table>\n<p>98 rows × 10 columns</p>\n</div>"
          },
          "metadata": {},
          "execution_count": 17
        }
      ]
    },
    {
      "cell_type": "code",
      "metadata": {
        "id": "oKrNH7UmRH4V"
      },
      "source": [
        "#student number\n",
        "studentNumber = scores.count()['1']\n",
        "#number of member in each group\n",
        "k = 4\n",
        "#number of group\n",
        "groupNumber = math.ceil(studentNumber / k)\n",
        "lastGroupNumber = studentNumber-k*(groupNumber-1)\n",
        "questionList = [str(i) for i in range(1,11)]"
      ],
      "execution_count": 33,
      "outputs": [
        {
          "output_type": "stream",
          "name": "stdout",
          "text": [
            "25\n"
          ]
        }
      ]
    },
    {
      "cell_type": "markdown",
      "metadata": {
        "id": "lJN2qrNPSKIH"
      },
      "source": [
        "##Declare variables"
      ]
    },
    {
      "cell_type": "code",
      "metadata": {
        "id": "BnPDYCZdSOiM"
      },
      "source": [
        "#x[i,j] whether student x is in group j\n",
        "x = {}\n",
        "for i in range(0, studentNumber):\n",
        "    x[i] = {}\n",
        "    for j in range(0, groupNumber):\n",
        "        x[i][j] = LpVariable('x_'+str(i)+','+str(j),cat=\"Binary\")\n",
        "print(x[5])"
      ],
      "execution_count": 40,
      "outputs": [
        {
          "output_type": "stream",
          "name": "stdout",
          "text": [
            "{0: x_5,0, 1: x_5,1, 2: x_5,2, 3: x_5,3, 4: x_5,4, 5: x_5,5, 6: x_5,6, 7: x_5,7, 8: x_5,8, 9: x_5,9, 10: x_5,10, 11: x_5,11, 12: x_5,12, 13: x_5,13, 14: x_5,14, 15: x_5,15, 16: x_5,16, 17: x_5,17, 18: x_5,18, 19: x_5,19, 20: x_5,20, 21: x_5,21, 22: x_5,22, 23: x_5,23, 24: x_5,24}\n"
          ]
        }
      ]
    },
    {
      "cell_type": "code",
      "metadata": {
        "id": "wMUER-p_T72H"
      },
      "source": [
        "#c[j,t] the quantity measuring the effect of grouping students into group j, toward exercise t\n",
        "c = {}\n",
        "for j in range(0, groupNumber):\n",
        "    c[j]={}\n",
        "    for t in questionList:\n",
        "        c[j][t]=LpVariable('c_'+str(j)+','+t,lowBound=0)"
      ],
      "execution_count": 42,
      "outputs": [
        {
          "output_type": "stream",
          "name": "stdout",
          "text": [
            "{'1': c_0,1, '2': c_0,2, '3': c_0,3, '4': c_0,4, '5': c_0,5, '6': c_0,6, '7': c_0,7, '8': c_0,8, '9': c_0,9, '10': c_0,10}\n"
          ]
        }
      ]
    },
    {
      "cell_type": "code",
      "metadata": {
        "id": "6tqh7trMXfmO"
      },
      "source": [
        "prob = LpProblem(\"Mixed_Problem\", LpMaximize)"
      ],
      "execution_count": 21,
      "outputs": []
    },
    {
      "cell_type": "code",
      "metadata": {
        "id": "No4ddFa6YOQd"
      },
      "source": [
        "for j in range(0, groupNumber):\n",
        "    # Excercise related constraints:\n",
        "    for t in questionList:\n",
        "        #c[j,t]=min(10, sum(x[i,j]*score[i,t]))\n",
        "        prob += c[j][t] <= 10 \n",
        "        #c[j,t]=min(10, sum(x[i,j]*score[i,t]))\n",
        "        prob += c[j][t] <= lpSum([x[i][j] * scores.loc[i][t] for i in range(0, studentNumber)])\n",
        "    # Each group has exactly k students or lastGroupNumber if it is the last group\n",
        "    if j < groupNumber-1:\n",
        "        prob += lpSum([x[i][j] for i in range(0, studentNumber)]) == k \n",
        "    else:\n",
        "        prob += lpSum([x[i][j] for i in range(0,studentNumber)]) == lastGroupNumber\n",
        "        \n",
        "for i in range(0,studentNumber):\n",
        "    # Each student belongs to only one group\n",
        "    prob += lpSum([x[i][j] for j in range(0, groupNumber)]) == 1\n"
      ],
      "execution_count": 22,
      "outputs": []
    },
    {
      "cell_type": "markdown",
      "metadata": {
        "id": "Jr6hS8WbiIk-"
      },
      "source": [
        "## Declare objective function"
      ]
    },
    {
      "cell_type": "code",
      "metadata": {
        "id": "bO9It56WiMoF"
      },
      "source": [
        "#The objective function is the sum of all c\n",
        "prob += lpSum([cjt for cj in c.values() for cjt in cj.values()])"
      ],
      "execution_count": 25,
      "outputs": []
    },
    {
      "cell_type": "code",
      "metadata": {
        "id": "QOcjd_G5knCv"
      },
      "source": [
        "prob.solve(solver=GLPK(msg=False))"
      ],
      "execution_count": 29,
      "outputs": [
        {
          "output_type": "execute_result",
          "data": {
            "text/plain": [
              "1"
            ]
          },
          "metadata": {},
          "execution_count": 29
        }
      ]
    },
    {
      "cell_type": "code",
      "metadata": {
        "id": "7u3es-LklQk4"
      },
      "source": [
        "prob.objective.value()"
      ],
      "execution_count": 30,
      "outputs": [
        {
          "output_type": "execute_result",
          "data": {
            "text/plain": [
              "680.9999999999994"
            ]
          },
          "metadata": {},
          "execution_count": 30
        }
      ]
    },
    {
      "cell_type": "code",
      "metadata": {
        "id": "G_RL3TNeoAtW"
      },
      "source": [
        "solution={}\n",
        "for i in range(0,studentNumber):\n",
        "  for j in range(0,groupNumber):\n",
        "    if not(j in solution):\n",
        "      solution[j]=[]\n",
        "    if x[i][j].value()==1:\n",
        "      solution[j].append((i,students.loc[i]['Họ']+' '+students.loc[i]['Tên']))\n",
        "      break\n",
        "    \n",
        "print(solution)"
      ],
      "execution_count": 31,
      "outputs": [
        {
          "output_type": "stream",
          "name": "stdout",
          "text": [
            "{0: [(8, 'Võ Hoàng Hải Nam'), (38, 'Trần Đình Vĩnh Thụy'), (79, 'Trần Khánh Tùng'), (80, 'Thái Duy Vũ')], 1: [(22, 'Lê Thanh Triều'), (41, 'Trương Việt Dũng'), (49, 'Nguyễn Thành Lưu'), (83, 'Nguyễn Văn Hoàn')], 2: [(24, 'Phạm Văn Thành'), (27, 'Trương Công Thành'), (74, 'Phạm Công Thiện'), (76, 'Ngô Lê Gia Thuấn')], 3: [(37, 'Phan Khánh Thịnh'), (72, 'Mai Văn Duyên'), (75, 'Lò Nhật Tân'), (95, 'Lê Bá Thông')], 4: [(11, 'Nguyễn Đỗ Quốc Duy'), (33, 'Sỳ Tùng An'), (68, 'Đặng Thành Ngân'), (93, 'Phan Quốc Long')], 5: [(16, 'Đỗ Lê Quang Trung'), (52, 'Lê Quang Duy'), (58, 'Nguyễn Phúc Nguyên'), (64, 'Phạm Quốc Trung')], 6: [(1, 'Lê Đức Huy'), (45, 'Hồ Thiên Long'), (77, 'Lăng Văn Dương'), (82, 'Trần Văn Viển')], 7: [(14, 'Lưu Văn Tiến'), (42, 'Võ Quang Nhật'), (54, 'Nguyễn Nhật Tân'), (63, 'Hồ Quang Khải')], 8: [(56, 'Nguyễn Duy Thìn'), (70, 'Lê Võ Hoàng Ân'), (71, 'Trần Nhất Tín'), (97, 'Huỳnh Tuấn Anh')], 9: [(19, 'Hoàng Vương'), (55, 'Võ Văn Toàn'), (67, 'Đinh Quang Trung'), (94, 'Dương Quân Bảo')], 10: [(15, 'Lê Trung Đan'), (46, 'Đặng Huỳnh Minh Trí'), (65, 'Đặng Ngọc Tâm'), (87, 'Huỳnh Hữu Thiện')], 11: [(48, 'Huỳnh Thị Uyên'), (62, 'Võ Ngọc Trọng'), (66, 'Đỗ Lam Trường'), (81, 'Hứa Phước Thuận')], 12: [(10, 'Vũ Đức Mạnh'), (17, 'Trần Danh Hoàng'), (39, 'Trần Thanh Bình'), (40, 'Nguyễn Tiến Phát')], 13: [(18, 'Nguyễn Trí Nhân'), (36, 'Đào Thanh Tú'), (57, 'Trần Hoàng Quân'), (78, 'Nguyễn Thăng Long')], 14: [(9, 'Nguyễn Gia Huy'), (25, 'Nguyễn Thành Nhân'), (32, 'Bùi Ngô Hoàng Long'), (92, 'Giang Văn Lực')], 15: [(3, 'Nguyễn Hoàng Duy'), (5, 'Lê Tuấn Vũ'), (7, 'Nguyễn Hoàng Thịnh'), (31, 'Võ Tuấn Khanh')], 16: [(6, 'Hoàng Tấn Phát'), (21, 'Nguyễn Đăng Cương'), (35, 'Lê Thanh Tân'), (51, 'Nguyễn Anh Vĩ')], 17: [(43, 'Lê Hoàng Bảo Trung'), (50, 'Nguyễn Hữu Trường'), (59, 'Lê Đỗ Thanh Bình'), (86, 'Trần Minh Hoàng')], 18: [(4, 'Lưu Minh Trí'), (30, 'Nguyễn Hoàng Việt'), (34, 'Nguyễn Ngọc Thuấn'), (91, 'Nguyễn Hoàng Nhật')], 19: [(23, 'Vũ Nguyễn Minh Đạt'), (28, 'Nguyễn Khiêm'), (44, 'Huỳnh Nhật Nam'), (69, 'Nguyễn Long Vũ')], 20: [(0, 'Nguyễn Hữu Thiên Phú'), (12, 'Vũ Duy Bình'), (47, 'Lê Thành Lâm'), (61, 'Trịnh Thế Dân')], 21: [(26, 'Hoàng Gia Khang'), (85, 'Đỗ Việt Vân Khanh'), (90, 'Vũ Khắc Tình'), (96, 'Trần Đình Đăng Khoa')], 22: [(13, 'Nguyễn Thế Viễn'), (60, 'Phan Thanh Trường'), (73, 'Trần Quốc Hưng'), (84, 'Trần Hoàng Việt')], 23: [(20, 'Lê Quang Minh'), (29, 'Cao Ngọc Bảo'), (88, 'Hoàng Lạp Kim'), (89, 'Huỳnh Thanh Sang')], 24: [(2, 'Huỳnh Hoài Nam'), (53, 'Huỳnh Phạm Phước Linh')]}\n"
          ]
        }
      ]
    }
  ]
}